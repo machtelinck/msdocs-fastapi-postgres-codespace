{
 "cells": [
  {
   "cell_type": "code",
   "execution_count": 5,
   "metadata": {},
   "outputs": [
    {
     "name": "stdout",
     "output_type": "stream",
     "text": [
      "{'damerau_levenshtein': 0.8333333333333334, 'jaro_winkler': 0.9666666666666667, 'jaro': 0.9444444444444445, 'sorensen_dice': 0.9090909090909091, 'lcs': 0.8333333333333334}\n"
     ]
    }
   ],
   "source": [
    "from textdistance import damerau_levenshtein, jaro_winkler, jaro, sorensen_dice, lcsstr\n",
    "import pandas as pd\n",
    "def calculate_features_test(rue_init, prop_lev):\n",
    "    damerau_levenshtein_score = damerau_levenshtein.normalized_similarity(rue_init, prop_lev)\n",
    "    jaro_winkler_score = jaro_winkler(rue_init, prop_lev)\n",
    "    jaro_score = jaro(rue_init, prop_lev)\n",
    "    sorensen_dice_score = sorensen_dice(rue_init, prop_lev)\n",
    "    lcs_score = lcsstr.normalized_similarity(rue_init, prop_lev)\n",
    "\n",
    "    return {\n",
    "        \"damerau_levenshtein\": damerau_levenshtein_score,\n",
    "        \"jaro_winkler\": jaro_winkler_score,\n",
    "        \"jaro\": jaro_score,\n",
    "        \"sorensen_dice\": sorensen_dice_score,\n",
    "        \"lcs\": lcs_score\n",
    "    }\n",
    "\n",
    "# Exemple de test\n",
    "features_test = calculate_features_test(\"Avenue\", \"Avenu\")\n",
    "print(features_test)\n"
   ]
  },
  {
   "cell_type": "code",
   "execution_count": 8,
   "metadata": {},
   "outputs": [
    {
     "name": "stdout",
     "output_type": "stream",
     "text": [
      "{'damerau_levenshtein': 0.19999999999999996, 'jaro_winkler': 0.5111111111111111, 'jaro': 0.5111111111111111, 'sorensen_dice': 0.25, 'lcs': 0.19999999999999996}\n"
     ]
    }
   ],
   "source": [
    "import textdistance\n",
    "def calculate_features(rue_init, prop_lev):\n",
    "    # Vérifier si les entrées ne sont pas vides\n",
    "    if not rue_init or not prop_lev:\n",
    "        raise ValueError(\"Les chaînes de caractères ne doivent pas être vides.\")\n",
    "\n",
    "    # Calcul des caractéristiques\n",
    "    features_dict = {\n",
    "        \"damerau_levenshtein\": [textdistance.damerau_levenshtein.normalized_similarity(rue_init, prop_lev)],\n",
    "        \"jaro_winkler\": [textdistance.jaro_winkler(rue_init, prop_lev)],\n",
    "        \"jaro\": [textdistance.jaro(rue_init, prop_lev)],\n",
    "        \"sorensen_dice\": [textdistance.sorensen_dice(rue_init, prop_lev)],\n",
    "        \"lcs\": [textdistance.lcsstr.normalized_similarity(rue_init, prop_lev)]\n",
    "    }\n",
    "    \n",
    "    # Conversion du dictionnaire en DataFrame\n",
    "    features_df = pd.DataFrame.from_dict(features_dict)\n",
    "    return features_df\n",
    "\n",
    "def test_calculate_features():\n",
    "    rue_init = \"ABC\"\n",
    "    prop_lev = \"BBBBB\"\n",
    "    features_df = calculate_features(rue_init, prop_lev)\n",
    "    print(features_df.to_dict(orient='records')[0])\n",
    "\n",
    "# Appeler la fonction de test\n",
    "test_calculate_features()\n"
   ]
  }
 ],
 "metadata": {
  "kernelspec": {
   "display_name": "Python 3",
   "language": "python",
   "name": "python3"
  },
  "language_info": {
   "codemirror_mode": {
    "name": "ipython",
    "version": 3
   },
   "file_extension": ".py",
   "mimetype": "text/x-python",
   "name": "python",
   "nbconvert_exporter": "python",
   "pygments_lexer": "ipython3",
   "version": "3.11.8"
  }
 },
 "nbformat": 4,
 "nbformat_minor": 2
}
